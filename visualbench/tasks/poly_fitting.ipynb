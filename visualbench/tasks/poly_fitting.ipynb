{
 "cells": [
  {
   "cell_type": "code",
   "execution_count": 1,
   "metadata": {},
   "outputs": [],
   "source": [
    "from myai.imports import *\n",
    "from visualbench import Benchmark\n",
    "from visualbench.utils import to_float_hwc_tensor\n",
    "from visualbench.tasks.test_functions import TEST_FUNCTIONS"
   ]
  },
  {
   "cell_type": "code",
   "execution_count": null,
   "metadata": {},
   "outputs": [],
   "source": [
    "class PolyFit(Benchmark):\n",
    "    def __init__(self, func: Any = 'rosen', order = 3):\n",
    "        super().__init__()\n",
    "\n",
    "        if isinstance(func,str): f = TEST_FUNCTIONS[func].to(device = 'cpu', dtype = torch.float32)\n",
    "        else: f = func\n",
    "\n",
    "        self.coeffs = torch.nn.Parameter(torch.zeros([2]*order, dtype=torch.float32))\n",
    "        \n",
    "\n"
   ]
  }
 ],
 "metadata": {
  "kernelspec": {
   "display_name": "pytorch312",
   "language": "python",
   "name": "python3"
  },
  "language_info": {
   "codemirror_mode": {
    "name": "ipython",
    "version": 3
   },
   "file_extension": ".py",
   "mimetype": "text/x-python",
   "name": "python",
   "nbconvert_exporter": "python",
   "pygments_lexer": "ipython3",
   "version": "3.12.8"
  }
 },
 "nbformat": 4,
 "nbformat_minor": 2
}
