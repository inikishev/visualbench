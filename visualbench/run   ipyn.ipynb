{
 "cells": [
  {
   "cell_type": "code",
   "execution_count": null,
   "metadata": {},
   "outputs": [
    {
     "name": "stdout",
     "output_type": "stream",
     "text": [
      "s1000/1000 b1000; train loss = 4.917                  \r"
     ]
    }
   ],
   "source": [
    "from myai.imports import *\n",
    "from visualbench.tasks import BoxPacking, FunctionDescent, MatrixInverse\n",
    "from visualbench import Benchmark\n",
    "import math\n",
    "opt = lambda params, lr: sig(torch.optim.SGD, params, lr)\n",
    "\n",
    "\n",
    "\n",
    "class Task:\n",
    "    def __init__(self, name, new_fn, max_steps, max_time, max_passes, min_loss = None, test_every_sec = None): # TODO add max passes\n",
    "        self.name = name\n",
    "        self.new_fn = new_fn\n",
    "        self.max_steps = max_steps\n",
    "        self.max_time = max_time\n",
    "        self.max_passes = max_passes # TODO pass\n",
    "        self.min_loss = min_loss\n",
    "        self.test_every_sec = test_every_sec\n",
    "\n",
    "    def run(self, opt_fn, **kwargs):\n",
    "        bench: Benchmark = self.new_fn()\n",
    "        opt = opt_fn(bench.parameters(), **kwargs)\n",
    "        bench.run(opt, max_steps=self.max_steps, max_time=self.max_time, min_loss=self.min_loss, test_every_sec=self.test_every_sec)\n",
    "\n",
    "        return bench\n",
    "\n",
    "tasks = [\n",
    "    Task('rosen', lambda: FunctionDescent('rosen'), 1000, 3, 0.01),\n",
    "    Task('booth', lambda: FunctionDescent('booth'), 1000, 3, 0.01),\n",
    "    Task('matrix inverse', lambda: MatrixInverse(torch.randn(128,128)), 1000, 10, 0.01)]\n",
    "\n",
    "lrs_log10 = [1, 0, -1, -2, -3, -4]\n",
    "lr_binary_search_iters = 5\n",
    "\n",
    "results = {}\n",
    "class Result:\n",
    "    def __init__(self, bench:Benchmark, task:Task):\n",
    "        self.train_losses = bench.logger.get_metric_as_numpy('train loss')\n",
    "        self.test_losses: dict[int, float] | None = bench.logger['test loss'] if 'test loss' in bench.logger else None\n",
    "\n",
    "        self.num_passes = bench.current_step + bench.num_backwards # TODO num passes\n",
    "        self.time_passed = bench.time_passed\n",
    "        self.lowest_loss = bench.lowest_loss\n",
    "        \n",
    "        self.task = task\n",
    "\n",
    "\n",
    "for t in tasks:\n",
    "    results[t.name] = {}\n",
    "    for lr in lrs_log10:\n",
    "        bench = t.run(opt, lr = 10 ** lr)\n",
    "        results[t.name][lr] = Result(bench, t)\n",
    "\n",
    "    # extra lr eval\n",
    "    for _ in range(lr_binary_search_iters):\n",
    "        lr_losses = [(lr, res.lowest_loss) for lr, res in results[t.name].items()]\n",
    "        lr_losses.sort(key = lambda x: x[1])\n",
    "        sorted_lrs = sorted(results[t.name].keys())\n",
    "\n",
    "        lr1 = lr_losses[0][0]; lr2 = lr_losses[1][0]\n",
    "        if lr1 == sorted_lrs[0]: new_lr = lr1 - 1\n",
    "        elif lr1 == sorted_lrs[-1]: new_lr = lr1 + 1\n",
    "        else: new_lr = (lr1 + (lr2 - lr1) / 2)\n",
    "\n",
    "        if round(new_lr, 3) not in lrs_log10:\n",
    "            bench = t.run(opt, lr = 10 ** new_lr)\n",
    "            results[t.name][new_lr] = Result(bench, t)\n",
    "        else:\n",
    "            break\n",
    "\n"
   ]
  },
  {
   "cell_type": "code",
   "execution_count": 28,
   "metadata": {},
   "outputs": [
    {
     "data": {
      "text/plain": [
       "{1: tensor(17.0688, grad_fn=<AddBackward0>),\n",
       " 0: tensor(2.9078, grad_fn=<AddBackward0>),\n",
       " -1: tensor(15.5849, grad_fn=<AddBackward0>),\n",
       " -2: tensor(23.6448, grad_fn=<AddBackward0>),\n",
       " -3: tensor(34.1690, grad_fn=<AddBackward0>),\n",
       " -4: tensor(38.2560, grad_fn=<AddBackward0>),\n",
       " -0.5: tensor(10.7459, grad_fn=<AddBackward0>),\n",
       " -0.25: tensor(6.9472, grad_fn=<AddBackward0>),\n",
       " -0.125: tensor(4.7401, grad_fn=<AddBackward0>)}"
      ]
     },
     "execution_count": 28,
     "metadata": {},
     "output_type": "execute_result"
    }
   ],
   "source": [
    "{lr: t.lowest_loss for lr, t in results['matrix inverse'].items()}"
   ]
  },
  {
   "cell_type": "code",
   "execution_count": 29,
   "metadata": {},
   "outputs": [
    {
     "data": {
      "text/plain": [
       "0.7498942093324559"
      ]
     },
     "execution_count": 29,
     "metadata": {},
     "output_type": "execute_result"
    }
   ],
   "source": [
    "10 ** -0.125"
   ]
  }
 ],
 "metadata": {
  "kernelspec": {
   "display_name": "pytorch312",
   "language": "python",
   "name": "python3"
  },
  "language_info": {
   "codemirror_mode": {
    "name": "ipython",
    "version": 3
   },
   "file_extension": ".py",
   "mimetype": "text/x-python",
   "name": "python",
   "nbconvert_exporter": "python",
   "pygments_lexer": "ipython3",
   "version": "3.12.8"
  }
 },
 "nbformat": 4,
 "nbformat_minor": 2
}
