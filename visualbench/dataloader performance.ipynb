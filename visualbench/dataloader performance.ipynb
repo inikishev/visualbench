{
 "cells": [
  {
   "cell_type": "code",
   "execution_count": 1,
   "metadata": {},
   "outputs": [],
   "source": [
    "import torch\n",
    "import numpy as np\n",
    "import random\n",
    "from torch.utils.data import DataLoader\n",
    "from myai.python_tools import perf_counter_context\n",
    "\n",
    "x = torch.randn(60000, 32, 32)\n",
    "y = torch.randint(0, 10, size = (60000, ))"
   ]
  },
  {
   "cell_type": "code",
   "execution_count": 2,
   "metadata": {},
   "outputs": [
    {
     "name": "stdout",
     "output_type": "stream",
     "text": [
      "Context took 5.757795500001521 perf_counter seconds\n"
     ]
    }
   ],
   "source": [
    "dl = DataLoader(list(zip(x, y)), batch_size=32, shuffle = True)\n",
    "\n",
    "with perf_counter_context():\n",
    "    for epoch in range(10):\n",
    "        for inputs, targets in dl:\n",
    "            pass"
   ]
  },
  {
   "cell_type": "code",
   "execution_count": 3,
   "metadata": {},
   "outputs": [
    {
     "name": "stdout",
     "output_type": "stream",
     "text": [
      "Context took 3.2657727999903727 perf_counter seconds\n"
     ]
    }
   ],
   "source": [
    "list_dataset = list(zip(x, y))\n",
    "import itertools\n",
    "\n",
    "with perf_counter_context():\n",
    "    for epoch in range(10):\n",
    "        random.shuffle(list_dataset)\n",
    "        for batch in itertools.batched(list_dataset, 32):\n",
    "            _inputs, _targets = zip(*batch)\n",
    "            inputs = torch.stack(_inputs)\n",
    "            targets = torch.stack(_targets)\n"
   ]
  },
  {
   "cell_type": "code",
   "execution_count": 4,
   "metadata": {},
   "outputs": [
    {
     "name": "stdout",
     "output_type": "stream",
     "text": [
      "Context took 2.7893395999999484 perf_counter seconds\n"
     ]
    }
   ],
   "source": [
    "list_dataset = list(zip(x, y))\n",
    "import itertools\n",
    "\n",
    "with perf_counter_context():\n",
    "    for epoch in range(10):\n",
    "        np.random.shuffle(list_dataset)\n",
    "        for batch in itertools.batched(list_dataset, 32):\n",
    "            _inputs, _targets = zip(*batch)\n",
    "            inputs = torch.stack(_inputs)\n",
    "            targets = torch.stack(_targets)\n"
   ]
  },
  {
   "cell_type": "code",
   "execution_count": 5,
   "metadata": {},
   "outputs": [
    {
     "name": "stdout",
     "output_type": "stream",
     "text": [
      "Context took 3.0243162999977358 perf_counter seconds\n"
     ]
    }
   ],
   "source": [
    "list_dataset = list(zip(x, y))\n",
    "import itertools\n",
    "\n",
    "with perf_counter_context():\n",
    "    for epoch in range(10):\n",
    "        indices = np.random.permutation(60000)\n",
    "        for indices_batch in itertools.batched(indices, 32):\n",
    "            batch = (list_dataset[i] for i in indices_batch)\n",
    "            _inputs, _targets = zip(*batch)\n",
    "            inputs = torch.stack(_inputs)\n",
    "            targets = torch.stack(_targets)\n"
   ]
  },
  {
   "cell_type": "code",
   "execution_count": 6,
   "metadata": {},
   "outputs": [
    {
     "data": {
      "text/plain": [
       "array([tensor([[-1.4616, -1.4049,  1.1384,  ..., -0.6546, -1.4673,  1.9734],\n",
       "               [ 0.0940, -0.4549, -0.1460,  ...,  2.1681,  0.1614,  0.5919],\n",
       "               [-0.3303,  0.3786, -0.0521,  ..., -0.6615,  1.7201, -0.0229],\n",
       "               ...,\n",
       "               [ 1.7151,  0.2598,  0.4767,  ...,  0.8916,  0.4324, -0.1125],\n",
       "               [ 0.1771,  0.8812, -0.7561,  ..., -0.7814,  0.9407,  0.0769],\n",
       "               [-1.4317,  0.3774, -0.6523,  ..., -1.2358,  0.5602,  0.0553]]),\n",
       "       tensor(3)], dtype=object)"
      ]
     },
     "execution_count": 6,
     "metadata": {},
     "output_type": "execute_result"
    }
   ],
   "source": [
    "np_dataset = np.array(list(zip(x, y)), dtype = object)\n",
    "np_dataset[0]"
   ]
  },
  {
   "cell_type": "code",
   "execution_count": 7,
   "metadata": {},
   "outputs": [
    {
     "name": "stdout",
     "output_type": "stream",
     "text": [
      "Context took 3.6046972000040114 perf_counter seconds\n"
     ]
    }
   ],
   "source": [
    "import itertools\n",
    "\n",
    "with perf_counter_context():\n",
    "    for epoch in range(10):\n",
    "        indices = np.random.permutation(60000)\n",
    "        for indices_batch in itertools.batched(indices, 512):\n",
    "            batch = np.take(np_dataset, indices_batch, axis = 0)\n",
    "            _inputs, _targets = zip(*batch)\n",
    "            inputs = torch.stack(_inputs)\n",
    "            targets = torch.stack(_targets)\n"
   ]
  },
  {
   "cell_type": "code",
   "execution_count": 8,
   "metadata": {},
   "outputs": [
    {
     "name": "stdout",
     "output_type": "stream",
     "text": [
      "Context took 2.990451799996663 perf_counter seconds\n"
     ]
    }
   ],
   "source": [
    "from myai.torch_tools import FastDataLoader\n",
    "\n",
    "dl = FastDataLoader(list(zip(x, y)), batch_size=32, shuffle = True)\n",
    "\n",
    "with perf_counter_context():\n",
    "    for epoch in range(10):\n",
    "        for inputs, targets in dl:\n",
    "            pass"
   ]
  },
  {
   "cell_type": "code",
   "execution_count": 5,
   "metadata": {},
   "outputs": [
    {
     "name": "stdout",
     "output_type": "stream",
     "text": [
      "Context took 0.9314926999941235 perf_counter seconds\n"
     ]
    }
   ],
   "source": [
    "from myai.torch_tools import InMemoryDataloader\n",
    "\n",
    "dl = InMemoryDataloader((x, y), batch_size=32, shuffle = True)\n",
    "\n",
    "with perf_counter_context():\n",
    "    for epoch in range(10):\n",
    "        for inputs, targets in dl:\n",
    "            pass"
   ]
  },
  {
   "cell_type": "code",
   "execution_count": null,
   "metadata": {},
   "outputs": [
    {
     "name": "stdout",
     "output_type": "stream",
     "text": [
      "Context took 1.436893300007796 perf_counter seconds\n"
     ]
    }
   ],
   "source": [
    "from myai.torch_tools import InMemoryDataloader\n",
    "\n",
    "dl = InMemoryDataloader((x, y), batch_size=32, shuffle = True, memory_efficient = True)\n",
    "\n",
    "with perf_counter_context():\n",
    "    for epoch in range(10):\n",
    "        for inputs, targets in dl:\n",
    "            pass"
   ]
  },
  {
   "cell_type": "code",
   "execution_count": 1,
   "metadata": {},
   "outputs": [
    {
     "data": {
      "text/plain": [
       "[(1, 2, 3, 4, 5)]"
      ]
     },
     "execution_count": 1,
     "metadata": {},
     "output_type": "execute_result"
    }
   ],
   "source": [
    "from itertools import batched\n",
    "list(batched([1,2,3,4,5], 100))"
   ]
  },
  {
   "cell_type": "code",
   "execution_count": 3,
   "metadata": {},
   "outputs": [
    {
     "data": {
      "text/plain": [
       "(5, 12, 12)"
      ]
     },
     "execution_count": 3,
     "metadata": {},
     "output_type": "execute_result"
    }
   ],
   "source": [
    "from myai.torch_tools import pad_to_shape\n",
    "import numpy as np\n",
    "x = np.random.uniform(-1, 1, (3, 10, 10))\n",
    "\n",
    "pad_to_shape(x, (5, 12, 7)).shape"
   ]
  },
  {
   "cell_type": "code",
   "execution_count": 4,
   "metadata": {},
   "outputs": [
    {
     "data": {
      "text/plain": [
       "array([1.40582502, 1.26295079, 1.92589583, 1.42296369])"
      ]
     },
     "execution_count": 4,
     "metadata": {},
     "output_type": "execute_result"
    }
   ],
   "source": [
    "import numpy as np\n",
    "np.concatenate(np.random.uniform(1,2, (2,2)))"
   ]
  }
 ],
 "metadata": {
  "kernelspec": {
   "display_name": "pytorch312",
   "language": "python",
   "name": "python3"
  },
  "language_info": {
   "codemirror_mode": {
    "name": "ipython",
    "version": 3
   },
   "file_extension": ".py",
   "mimetype": "text/x-python",
   "name": "python",
   "nbconvert_exporter": "python",
   "pygments_lexer": "ipython3",
   "version": "3.12.3"
  }
 },
 "nbformat": 4,
 "nbformat_minor": 2
}
